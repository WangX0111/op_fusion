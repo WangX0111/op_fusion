{
 "cells": [
  {
   "cell_type": "code",
   "execution_count": 58,
   "metadata": {},
   "outputs": [],
   "source": [
    "import torch\n",
    "import torch.nn as nn\n",
    "import torch.nn.functional as F\n",
    "import torchvision.models as models\n",
    "import numpy as np"
   ]
  },
  {
   "cell_type": "code",
   "execution_count": 104,
   "metadata": {},
   "outputs": [],
   "source": [
    "class Conv2dMod(nn.Module):\n",
    "    def __init__(self):\n",
    "        super(Conv2dMod, self).__init__()\n",
    "        self.conv2d = nn.Conv2d(in_channels=3, out_channels=3, kernel_size=3)\n",
    "\n",
    "    def forward(self, x):\n",
    "        y = self.conv2d(x)\n",
    "        return y\n",
    "    \n",
    "conv2d = Conv2dMod()\n",
    "#conv2d = conv2d.cuda()"
   ]
  },
  {
   "cell_type": "code",
   "execution_count": 105,
   "metadata": {},
   "outputs": [],
   "source": [
    "class MaxPool2dMod(nn.Module):\n",
    "    def __init__(self):\n",
    "        super(MaxPool2dMod, self).__init__()\n",
    "        self.maxpool2d = nn.MaxPool2d(kernel_size=2)\n",
    "        \n",
    "    def forward(self, x):\n",
    "        y = self.maxpool2d(x)\n",
    "        return y\n",
    "    \n",
    "maxpool2d = MaxPool2dMod()\n",
    "#maxpool2d = maxpool2d.cuda()"
   ]
  },
  {
   "cell_type": "code",
   "execution_count": 216,
   "metadata": {},
   "outputs": [],
   "source": [
    "class Threemm(nn.Module):\n",
    "    def __init__(self):\n",
    "        super(Threemm, self).__init__()\n",
    "\n",
    "    def forward(self, X):\n",
    "        n = 1024 # X.shape[0] // 4\n",
    "        B = X[0:n, :] #X[0:n,:]\n",
    "        C = X[n:2*n,:] #X[n:2*n,:]\n",
    "        E = X[2*n:3*n,:] #X[2*n:3*n,:]\n",
    "        F = X[3*n:4*n,:] #X[3*n:4*n,:]\n",
    "        # A=BC, D=EF, G=AD\n",
    "        A = torch.matmul(B, C)\n",
    "        D = torch.matmul(E, F)\n",
    "        G = torch.matmul(A, D)\n",
    "        return G\n",
    "\n",
    "threemm = Threemm()\n",
    "#threemm = threemm.cuda()"
   ]
  },
  {
   "cell_type": "code",
   "execution_count": 217,
   "metadata": {},
   "outputs": [],
   "source": [
    "class Alexnet(nn.Module):\n",
    "    def __init__(self):\n",
    "        super(Alexnet, self).__init__()\n",
    "        self.alexnet = models.alexnet(pretrained=True)\n",
    "        \n",
    "    def forward(self, x):\n",
    "        y = self.alexnet(x)\n",
    "        return y\n",
    "    \n",
    "alexnet = Alexnet()\n",
    "#alexnet = alexnet.cuda()"
   ]
  },
  {
   "cell_type": "code",
   "execution_count": 218,
   "metadata": {},
   "outputs": [],
   "source": [
    "class Covariance(nn.Module):\n",
    "    def __init__(self):\n",
    "        super(Covariance, self).__init__()\n",
    "\n",
    "    def forward(self, X):\n",
    "        # Cov(X) = XX^T/(n-1)\n",
    "        factor = 1.0 / (X.shape[0] - 1)\n",
    "        M = X - torch.mean(X, axis=0)\n",
    "        Mt = M.t()\n",
    "        cov = factor * torch.matmul(M,Mt)\n",
    "        return cov\n",
    "    \n",
    "covariance = Covariance()\n",
    "# covariance = covariance.cuda()"
   ]
  },
  {
   "cell_type": "code",
   "execution_count": 219,
   "metadata": {},
   "outputs": [],
   "source": [
    "class Correlation(nn.Module):\n",
    "    def __init__(self):\n",
    "        super(Correlation, self).__init__()\n",
    "\n",
    "    def forward(self, X):\n",
    "        factor = 1 / X.shape[0]\n",
    "        means_col = torch.mean(X, axis=0)\n",
    "        stds_col = torch.std(X, axis=0)\n",
    "        M = (X - means_col)/ stds_col\n",
    "        Mt = M.t()\n",
    "        corr = factor * torch.matmul(M, Mt)\n",
    "        return corr\n",
    "\n",
    "correlation = Correlation()\n",
    "# correlation = correlation.cuda()"
   ]
  },
  {
   "cell_type": "code",
   "execution_count": 220,
   "metadata": {},
   "outputs": [],
   "source": [
    "# test conv2d, maxpool2d, alexnet\n",
    "M = 227\n",
    "img_random = torch.randn((1, 3, M, M))"
   ]
  },
  {
   "cell_type": "code",
   "execution_count": 221,
   "metadata": {},
   "outputs": [
    {
     "data": {
      "text/plain": [
       "torch.Size([1, 3, 225, 225])"
      ]
     },
     "execution_count": 221,
     "metadata": {},
     "output_type": "execute_result"
    }
   ],
   "source": [
    "output_conv2d = conv2d(img_random)\n",
    "output_conv2d.shape"
   ]
  },
  {
   "cell_type": "code",
   "execution_count": 222,
   "metadata": {},
   "outputs": [],
   "source": [
    "torch.onnx.export(conv2d, img_random, 'conv2d.onnx')"
   ]
  },
  {
   "cell_type": "code",
   "execution_count": 223,
   "metadata": {},
   "outputs": [
    {
     "data": {
      "text/plain": [
       "torch.Size([1, 3, 113, 113])"
      ]
     },
     "execution_count": 223,
     "metadata": {},
     "output_type": "execute_result"
    }
   ],
   "source": [
    "output_maxpool2d = maxpool2d(img_random)\n",
    "output_maxpool2d.shape"
   ]
  },
  {
   "cell_type": "code",
   "execution_count": 224,
   "metadata": {},
   "outputs": [],
   "source": [
    "torch.onnx.export(maxpool2d, img_random, 'maxpool2d.onnx')"
   ]
  },
  {
   "cell_type": "code",
   "execution_count": 225,
   "metadata": {},
   "outputs": [
    {
     "data": {
      "text/plain": [
       "torch.Size([1, 1000])"
      ]
     },
     "execution_count": 225,
     "metadata": {},
     "output_type": "execute_result"
    }
   ],
   "source": [
    "output_alexnet = alexnet(img_random)\n",
    "output_alexnet.shape"
   ]
  },
  {
   "cell_type": "code",
   "execution_count": 226,
   "metadata": {},
   "outputs": [],
   "source": [
    "torch.onnx.export(alexnet, img_random, 'alexnet.onnx')"
   ]
  },
  {
   "cell_type": "code",
   "execution_count": 227,
   "metadata": {},
   "outputs": [],
   "source": [
    "# test 3mm\n",
    "N = 1024\n",
    "X = torch.randn((4*N, N))"
   ]
  },
  {
   "cell_type": "code",
   "execution_count": 228,
   "metadata": {},
   "outputs": [
    {
     "data": {
      "text/plain": [
       "torch.Size([1024, 1024])"
      ]
     },
     "execution_count": 228,
     "metadata": {},
     "output_type": "execute_result"
    }
   ],
   "source": [
    "output_threemm  = threemm(X)\n",
    "output_threemm.shape"
   ]
  },
  {
   "cell_type": "code",
   "execution_count": 229,
   "metadata": {},
   "outputs": [],
   "source": [
    "torch.onnx.export(threemm, X, 'threemm.onnx')"
   ]
  },
  {
   "cell_type": "code",
   "execution_count": 230,
   "metadata": {},
   "outputs": [],
   "source": [
    "# test covariance and correlation\n",
    "N = 1024\n",
    "X = torch.randn((N,N))"
   ]
  },
  {
   "cell_type": "code",
   "execution_count": 231,
   "metadata": {},
   "outputs": [
    {
     "data": {
      "text/plain": [
       "torch.Size([1024, 1024])"
      ]
     },
     "execution_count": 231,
     "metadata": {},
     "output_type": "execute_result"
    }
   ],
   "source": [
    "output_covariance = covariance(X)\n",
    "output_covariance.shape"
   ]
  },
  {
   "cell_type": "code",
   "execution_count": 232,
   "metadata": {},
   "outputs": [],
   "source": [
    "torch.onnx.export(covariance, X, 'covariance.onnx')"
   ]
  },
  {
   "cell_type": "code",
   "execution_count": 233,
   "metadata": {},
   "outputs": [
    {
     "data": {
      "text/plain": [
       "torch.Size([1024, 1024])"
      ]
     },
     "execution_count": 233,
     "metadata": {},
     "output_type": "execute_result"
    }
   ],
   "source": [
    "output_correlation = correlation(X)\n",
    "output_correlation.shape"
   ]
  },
  {
   "cell_type": "code",
   "execution_count": 234,
   "metadata": {},
   "outputs": [],
   "source": [
    "torch.onnx.export(correlation, X, 'correlation.onnx')"
   ]
  },
  {
   "cell_type": "code",
   "execution_count": null,
   "metadata": {},
   "outputs": [],
   "source": []
  }
 ],
 "metadata": {
  "kernelspec": {
   "display_name": "ece549",
   "language": "python",
   "name": "ece549"
  },
  "language_info": {
   "codemirror_mode": {
    "name": "ipython",
    "version": 3
   },
   "file_extension": ".py",
   "mimetype": "text/x-python",
   "name": "python",
   "nbconvert_exporter": "python",
   "pygments_lexer": "ipython3",
   "version": "3.8.2"
  }
 },
 "nbformat": 4,
 "nbformat_minor": 4
}
