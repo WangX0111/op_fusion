{
 "cells": [
  {
   "cell_type": "code",
   "execution_count": 2,
   "metadata": {},
   "outputs": [],
   "source": [
    "# 导入必要的库\n",
    "# import mlir.all_passes_registration\n",
    "import mlir.ir\n",
    "import mlir.dialects.linalg.opdsl as opdsl\n",
    "import numpy as np\n"
   ]
  },
  {
   "cell_type": "code",
   "execution_count": 3,
   "metadata": {},
   "outputs": [
    {
     "ename": "AttributeError",
     "evalue": "module 'mlir.dialects.linalg.opdsl' has no attribute 'linalg'",
     "output_type": "error",
     "traceback": [
      "\u001b[0;31m---------------------------------------------------------------------------\u001b[0m",
      "\u001b[0;31mAttributeError\u001b[0m                            Traceback (most recent call last)",
      "Cell \u001b[0;32mIn[3], line 2\u001b[0m\n\u001b[1;32m      1\u001b[0m \u001b[39m# 定义矩阵乘法操作\u001b[39;00m\n\u001b[0;32m----> 2\u001b[0m \u001b[39m@opdsl\u001b[39m\u001b[39m.\u001b[39;49mlinalg\n\u001b[1;32m      3\u001b[0m \u001b[39mdef\u001b[39;00m \u001b[39mmatmul\u001b[39m(\n\u001b[1;32m      4\u001b[0m     A\u001b[39m=\u001b[39mopdsl\u001b[39m.\u001b[39mTensorDef([\u001b[39m8\u001b[39m, \u001b[39m8\u001b[39m], opdsl\u001b[39m.\u001b[39mF32),\n\u001b[1;32m      5\u001b[0m     B\u001b[39m=\u001b[39mopdsl\u001b[39m.\u001b[39mTensorDef([\u001b[39m8\u001b[39m, \u001b[39m8\u001b[39m], opdsl\u001b[39m.\u001b[39mF32),\n\u001b[1;32m      6\u001b[0m     C\u001b[39m=\u001b[39mopdsl\u001b[39m.\u001b[39mTensorDef([\u001b[39m8\u001b[39m, \u001b[39m8\u001b[39m], opdsl\u001b[39m.\u001b[39mF32),\n\u001b[1;32m      7\u001b[0m ):\n\u001b[1;32m      8\u001b[0m     C[D\u001b[39m.\u001b[39mm, D\u001b[39m.\u001b[39mn] \u001b[39m+\u001b[39m\u001b[39m=\u001b[39m A[D\u001b[39m.\u001b[39mm, D\u001b[39m.\u001b[39mk] \u001b[39m*\u001b[39m B[D\u001b[39m.\u001b[39mk, D\u001b[39m.\u001b[39mn]\n\u001b[1;32m     10\u001b[0m \u001b[39m# 初始化MLIR上下文\u001b[39;00m\n",
      "\u001b[0;31mAttributeError\u001b[0m: module 'mlir.dialects.linalg.opdsl' has no attribute 'linalg'"
     ]
    }
   ],
   "source": [
    "# 定义矩阵乘法操作\n",
    "def matmul(\n",
    "    A=opdsl.TensorDef([8, 8], opdsl.F32),\n",
    "    B=opdsl.TensorDef([8, 8], opdsl.F32),\n",
    "    C=opdsl.TensorDef([8, 8], opdsl.F32),\n",
    "):\n",
    "    C[D.m, D.n] += A[D.m, D.k] * B[D.k, D.n]\n",
    "\n",
    "# 初始化MLIR上下文\n",
    "ctx = mlir.ir.Context()\n",
    "\n",
    "# 定义输入和输出张量类型\n",
    "input_type = mlir.ir.MemRefType.get_elemental_type(\n",
    "    mlir.ir.F32Type.get(), 2, [\"8\", \"8\"]\n",
    ")\n",
    "output_type = mlir.ir.MemRefType.get_elemental_type(\n",
    "    mlir.ir.F32Type.get(), 2, [\"8\", \"8\"]\n",
    ")\n",
    "\n",
    "# 创建MLIR module\n",
    "with mlir.ir.InsertionPoint(ctx.module.body):\n",
    "    # 创建矩阵乘法操作\n",
    "    with mlir.ir.FuncOp.create(\n",
    "        ctx,\n",
    "        location=mlir.ir.Location.unknown(),\n",
    "        name=\"matmul_linalg\",\n",
    "        type_=(\n",
    "            mlir.ir.FunctionType.get(\n",
    "                inputs=[input_type, input_type, output_type], results=[]\n",
    "            )\n",
    "        ),\n",
    "    ) as func:\n",
    "        # 将矩阵乘法操作添加到函数体中\n",
    "        with mlir.ir.InsertionPoint(func.add_entry_block()):\n",
    "            matmul(\n",
    "                A=mlir.ir.Argument.create(\n",
    "                    input_type, \"A\",\n",
    "                ),\n",
    "                B=mlir.ir.Argument.create(\n",
    "                    input_type, \"B\",\n",
    "                ),\n",
    "                C=mlir.ir.Argument.create(\n",
    "                    output_type, \"C\",\n",
    "                ),\n",
    "            )\n",
    "            mlir.ir.ReturnOp.create(\n",
    "                mlir.ir.Location.unknown(),\n",
    "                operands=[],\n",
    "            )\n",
    "\n",
    "# 编译MLIR module\n",
    "module = mlir.ir.Module.parse(str(ctx))\n",
    "\n",
    "# 打印编译后的MLIR代码\n",
    "print(module)\n",
    "\n",
    "# 执行矩阵乘法操作\n",
    "with mlir.ir.Context() as execution_context:\n",
    "    # 创建输入和输出张量\n",
    "    A = np.random.rand(8, 8).astype(np.float32)\n",
    "    B = np.random.rand(8, 8).astype(np.float32)\n",
    "    C = np.zeros((8, 8), dtype=np.float32)\n",
    "    inputs = [mlir.ir.DenseElementsAttr.get(A), mlir.ir.DenseElementsAttr.get(B),]\n",
    "    outputs = [mlir.ir.DenseElementsAttr.get(C)]\n",
    "\n",
    "    # JIT编译和执行矩阵乘法操作\n",
    "    jit_engine = mlir.execution_engine.ExecutionEngine(module)\n",
    "    result = jit_engine.invoke(\"matmul_linalg\", inputs, outputs)\n",
    "\n",
    "    # 打印结果\n",
    "    print(result)"
   ]
  }
 ],
 "metadata": {
  "kernelspec": {
   "display_name": "base",
   "language": "python",
   "name": "python3"
  },
  "language_info": {
   "codemirror_mode": {
    "name": "ipython",
    "version": 3
   },
   "file_extension": ".py",
   "mimetype": "text/x-python",
   "name": "python",
   "nbconvert_exporter": "python",
   "pygments_lexer": "ipython3",
   "version": "3.10.9"
  },
  "orig_nbformat": 4
 },
 "nbformat": 4,
 "nbformat_minor": 2
}
