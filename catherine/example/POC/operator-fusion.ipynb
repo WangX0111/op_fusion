{
 "cells": [
  {
   "cell_type": "code",
   "execution_count": 1,
   "metadata": {},
   "outputs": [
    {
     "ename": "AttributeError",
     "evalue": "add_input",
     "output_type": "error",
     "traceback": [
      "\u001b[0;31m---------------------------------------------------------------------------\u001b[0m",
      "\u001b[0;31mAttributeError\u001b[0m                            Traceback (most recent call last)",
      "Cell \u001b[0;32mIn[1], line 8\u001b[0m\n\u001b[1;32m      6\u001b[0m graph \u001b[39m=\u001b[39m model\u001b[39m.\u001b[39mgraph\n\u001b[1;32m      7\u001b[0m graph\u001b[39m.\u001b[39mname \u001b[39m=\u001b[39m \u001b[39m\"\u001b[39m\u001b[39mexample\u001b[39m\u001b[39m\"\u001b[39m\n\u001b[0;32m----> 8\u001b[0m x \u001b[39m=\u001b[39m graph\u001b[39m.\u001b[39;49madd_input(name\u001b[39m=\u001b[39m\u001b[39m\"\u001b[39m\u001b[39mx\u001b[39m\u001b[39m\"\u001b[39m, \u001b[39mtype\u001b[39m\u001b[39m=\u001b[39m\u001b[39m\"\u001b[39m\u001b[39mfloat\u001b[39m\u001b[39m\"\u001b[39m, shape\u001b[39m=\u001b[39m[\u001b[39m1\u001b[39m, \u001b[39m2\u001b[39m])\n\u001b[1;32m      9\u001b[0m cond \u001b[39m=\u001b[39m graph\u001b[39m.\u001b[39madd_input(name\u001b[39m=\u001b[39m\u001b[39m\"\u001b[39m\u001b[39mcond\u001b[39m\u001b[39m\"\u001b[39m, \u001b[39mtype\u001b[39m\u001b[39m=\u001b[39m\u001b[39m\"\u001b[39m\u001b[39mbool\u001b[39m\u001b[39m\"\u001b[39m, shape\u001b[39m=\u001b[39m[\u001b[39m1\u001b[39m])\n\u001b[1;32m     10\u001b[0m y_init \u001b[39m=\u001b[39m graph\u001b[39m.\u001b[39madd_input(name\u001b[39m=\u001b[39m\u001b[39m\"\u001b[39m\u001b[39my_init\u001b[39m\u001b[39m\"\u001b[39m, \u001b[39mtype\u001b[39m\u001b[39m=\u001b[39m\u001b[39m\"\u001b[39m\u001b[39mfloat\u001b[39m\u001b[39m\"\u001b[39m, shape\u001b[39m=\u001b[39m[\u001b[39m1\u001b[39m, \u001b[39m2\u001b[39m])\n",
      "\u001b[0;31mAttributeError\u001b[0m: add_input"
     ]
    }
   ],
   "source": [
    "import onnx\n",
    "import onnxruntime as ort\n",
    "from onnxruntime.transformers import optimizer\n",
    "# 创建ONNX模型\n",
    "model = onnx.ModelProto()\n",
    "graph = model.graph\n",
    "graph.name = \"example\"\n",
    "x = graph.add_input(name=\"x\", type=\"float\", shape=[1, 2])\n",
    "cond = graph.add_input(name=\"cond\", type=\"bool\", shape=[1])\n",
    "y_init = graph.add_input(name=\"y_init\", type=\"float\", shape=[1, 2])\n",
    "z_init = graph.add_input(name=\"z_init\", type=\"float\", shape=[1, 2])\n",
    "y = graph.add_node(op_type=\"Add\", inputs=[x, y_init], outputs=[\"y\"])\n",
    "z = graph.add_node(op_type=\"Sub\", inputs=[x, z_init], outputs=[\"z\"])\n",
    "if_node = graph.add_node(op_type=\"If\", inputs=[cond])\n",
    "if_node.add_output(\"y_out\")\n",
    "if_node.add_output(\"z_out\")\n",
    "then_branch = if_node.add_attribute(\"then_branch\")\n",
    "else_branch = if_node.add_attribute(\"else_branch\")\n",
    "# 添加then分支\n",
    "then_graph = then_branch.graph\n",
    "then_x = then_graph.add_input(name=\"x\", type=\"float\", shape=[1, 2])\n",
    "then_y = then_graph.add_node(op_type=\"Mul\", inputs=[then_x, y], outputs=[\"y\"])\n",
    "then_branch.add_output(\"y_out\", then_y.output[0])\n",
    "# 添加else分支\n",
    "else_graph = else_branch.graph\n",
    "else_x = else_graph.add_input(name=\"x\", type=\"float\", shape=[1, 2])\n",
    "else_z = else_graph.add_node(op_type=\"Mul\", inputs=[else_x, z], outputs=[\"z\"])\n",
    "else_branch.add_output(\"z_out\", else_z.output[0])\n",
    "# 添加输出节点\n",
    "output = graph.add_node(op_type=\"Add\", inputs=[if_node.output[0], if_node.output[1]], outputs=[\"output\"])\n",
    "graph.add_output(name=\"output\", type=\"float\", shape=[1, 2])\n",
    "# 创建ONNX Runtime会话\n",
    "session = ort.InferenceSession(model.SerializeToString())\n",
    "# 运行模型\n",
    "input_names = [input.name for input in session.get_inputs()]\n",
    "output_names = [output.name for output in session.get_outputs()]\n",
    "input_data = {\"x\": np.array([[1.0, 2.0]])}\n",
    "input_data[\"cond\"] = np.array([True])\n",
    "input_data[\"y_init\"] = np.array([[3.0, 4.0]])\n",
    "input_data[\"z_init\"] = np.array([[5.0, 6.0]])\n",
    "output = session.run(output_names, input_data)\n",
    "# 处理输出数据"
   ]
  }
 ],
 "metadata": {
  "kernelspec": {
   "display_name": "base",
   "language": "python",
   "name": "python3"
  },
  "language_info": {
   "codemirror_mode": {
    "name": "ipython",
    "version": 3
   },
   "file_extension": ".py",
   "mimetype": "text/x-python",
   "name": "python",
   "nbconvert_exporter": "python",
   "pygments_lexer": "ipython3",
   "version": "3.10.9"
  },
  "orig_nbformat": 4
 },
 "nbformat": 4,
 "nbformat_minor": 2
}
