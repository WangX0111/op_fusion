{
 "cells": [
  {
   "cell_type": "code",
   "execution_count": 16,
   "metadata": {},
   "outputs": [
    {
     "name": "stdout",
     "output_type": "stream",
     "text": [
      "graph test_matmul_add_mode (\n",
      "  %x[FLOAT, 1x10]\n",
      ") optional inputs with matching initializers (\n",
      "  %matmul_weight[FLOAT, 10x1]\n",
      "  %add_bias[FLOAT, 1000000]\n",
      ") {\n",
      "  %matmul_out = MatMul(%x, %matmul_weight)\n",
      "  %add_out = Add(%matmul_out, %add_bias)\n",
      "  return %add_out\n",
      "}\n"
     ]
    }
   ],
   "source": [
    "# 打印模型形状\n",
    "import onnx\n",
    "\n",
    "# Load the ONNX model\n",
    "model = onnx.load(\"example.onnx\")\n",
    "\n",
    "# Check that the IR is well formed\n",
    "onnx.checker.check_model(model)\n",
    "\n",
    "# Print a human readable representation of the graph\n",
    "print(onnx.helper.printable_graph(model.graph))"
   ]
  },
  {
   "cell_type": "code",
   "execution_count": 45,
   "metadata": {},
   "outputs": [],
   "source": [
    "# 生成极端matmul-add模型\n",
    "\n",
    "import onnx\n",
    "import numpy as np\n",
    "# 定义matmul节点的属性\n",
    "matmul_attr = {}\n",
    "# 定义add节点的属性\n",
    "add_attr = {}\n",
    "# 定义输入张量\n",
    "x = np.random.randn(1, 10).astype(np.float32)\n",
    "# 构建matmul节点的输入张量\n",
    "matmul_weight = np.random.randn(10, 1).astype(np.float32)\n",
    "# 构建add节点的输入张量\n",
    "add_bias = np.random.randn(1000000).astype(np.float32)\n",
    "# 构建matmul节点\n",
    "matmul_node = onnx.helper.make_node('MatMul', inputs=['x', 'matmul_weight'], outputs=['matmul_out'], **matmul_attr)\n",
    "# 构建add节点\n",
    "add_node = onnx.helper.make_node('Add', inputs=['matmul_out', 'add_bias'], outputs=['add_out'], **add_attr)\n",
    "# 构建onnx模型\n",
    "onnx_graph = onnx.helper.make_graph(\n",
    "    nodes=[matmul_node, add_node],\n",
    "    name='test_matmul_add_mode',\n",
    "    inputs=[onnx.helper.make_tensor_value_info('x', onnx.TensorProto.FLOAT, [1, 10]),\n",
    "            onnx.helper.make_tensor_value_info('matmul_weight', onnx.TensorProto.FLOAT, [10, 1]),\n",
    "            onnx.helper.make_tensor_value_info('add_bias', onnx.TensorProto.FLOAT, [1000000])],\n",
    "    outputs=[onnx.helper.make_tensor_value_info('add_out', onnx.TensorProto.FLOAT, [1, 1])],\n",
    "    initializer=[onnx.helper.make_tensor('matmul_weight', onnx.TensorProto.FLOAT, [10, 1], matmul_weight),\n",
    "                  onnx.helper.make_tensor('add_bias', onnx.TensorProto.FLOAT, [1000000], add_bias)]\n",
    ")\n",
    "onnx_model = onnx.helper.make_model(onnx_graph, opset_imports=[onnx.helper.make_opsetid(\"\", 14)])\n",
    "                                    \n",
    "onnx.checker.check_model(onnx_model)\n",
    "# 保存模型\n",
    "onnx.save(onnx_model, 'example.onnx')"
   ]
  },
  {
   "cell_type": "code",
   "execution_count": 29,
   "metadata": {},
   "outputs": [],
   "source": [
    "# 生成正常matmul-add模型\n",
    "\n",
    "import onnx\n",
    "import numpy as np\n",
    "# 定义matmul节点的属性\n",
    "matmul_attr = {}\n",
    "# 定义add节点的属性\n",
    "add_attr = {}\n",
    "# 定义输入张量\n",
    "x = np.random.randn(10, 10).astype(np.float32)\n",
    "# 构建matmul节点的输入张量\n",
    "matmul_weight = np.random.randn(10, 10).astype(np.float32)\n",
    "# 构建add节点的输入张量\n",
    "add_bias = np.random.randn(10).astype(np.float32)\n",
    "# 构建matmul节点\n",
    "matmul_node = onnx.helper.make_node('MatMul', inputs=['x', 'matmul_weight'], outputs=['matmul_out'], **matmul_attr)\n",
    "# 构建add节点\n",
    "add_node = onnx.helper.make_node('Add', inputs=['matmul_out', 'add_bias'], outputs=['add_out'], **add_attr)\n",
    "# 构建onnx模型\n",
    "onnx_graph = onnx.helper.make_graph(\n",
    "    nodes=[matmul_node, add_node],\n",
    "    name='test_matmul_add_mode',\n",
    "    inputs=[onnx.helper.make_tensor_value_info('x', onnx.TensorProto.FLOAT, [10, 10]),\n",
    "            onnx.helper.make_tensor_value_info('matmul_weight', onnx.TensorProto.FLOAT, [10, 10]),\n",
    "            onnx.helper.make_tensor_value_info('add_bias', onnx.TensorProto.FLOAT, [10])],\n",
    "    outputs=[onnx.helper.make_tensor_value_info('add_out', onnx.TensorProto.FLOAT, [10, 10])],\n",
    "    initializer=[onnx.helper.make_tensor('matmul_weight', onnx.TensorProto.FLOAT, [10, 10], matmul_weight),\n",
    "                  onnx.helper.make_tensor('add_bias', onnx.TensorProto.FLOAT, [10], add_bias)]\n",
    ")\n",
    "onnx_model = onnx.helper.make_model(onnx_graph, opset_imports=[onnx.helper.make_opsetid(\"\", 14)])\n",
    "                                    \n",
    "onnx.checker.check_model(onnx_model)\n",
    "# 保存模型\n",
    "onnx.save(onnx_model, 'example.onnx')"
   ]
  },
  {
   "cell_type": "code",
   "execution_count": 30,
   "metadata": {},
   "outputs": [],
   "source": [
    "import onnxruntime as ort\n",
    "import numpy as  np"
   ]
  },
  {
   "cell_type": "code",
   "execution_count": 46,
   "metadata": {},
   "outputs": [
    {
     "name": "stderr",
     "output_type": "stream",
     "text": [
      "2023-04-17 08:01:50.193523728 [W:onnxruntime:, graph.cc:1231 Graph] Initializer matmul_weight appears in graph inputs and will not be treated as constant value/weight. This may prevent some of the graph optimizations, like const folding. Move it out of graph inputs if there is no need to override it, by either re-generating the model with latest exporter/converter or with the tool onnxruntime/tools/python/remove_initializer_from_input.py.\n",
      "2023-04-17 08:01:50.193564246 [W:onnxruntime:, graph.cc:1231 Graph] Initializer add_bias appears in graph inputs and will not be treated as constant value/weight. This may prevent some of the graph optimizations, like const folding. Move it out of graph inputs if there is no need to override it, by either re-generating the model with latest exporter/converter or with the tool onnxruntime/tools/python/remove_initializer_from_input.py.\n",
      "2023-04-17 08:01:50.193736635 [W:onnxruntime:, graph.cc:108 MergeShapeInfo] Error merging shape info for output. 'add_out' source:{1,1000000} target:{1,1}. Falling back to lenient merge.\n"
     ]
    }
   ],
   "source": [
    "# 优化onnx模型，需要融合\n",
    "\n",
    "# 加载onnx模型\n",
    "model_path = 'example.onnx'\n",
    "sess_options = ort.SessionOptions()\n",
    "sess_options.graph_optimization_level = ort.GraphOptimizationLevel.ORT_ENABLE_EXTENDED  \n",
    "sess_options.optimized_model_filepath = 'optimized.onnx'\n",
    "sess = ort.InferenceSession(model_path, sess_options=sess_options)\n",
    "# 运行推理\n",
    "# x = np.random.randn(1, 10).astype(np.float32)\n",
    "# result = sess.run(None, {'x': x})\n",
    "# 打印输出\n",
    "# print(result)"
   ]
  },
  {
   "cell_type": "code",
   "execution_count": 47,
   "metadata": {},
   "outputs": [
    {
     "name": "stdout",
     "output_type": "stream",
     "text": [
      "graph test_matmul_add_mode (\n",
      "  %x[FLOAT, 1x10]\n",
      ") optional inputs with matching initializers (\n",
      "  %matmul_weight[FLOAT, 10x1]\n",
      "  %add_bias[FLOAT, 1000000]\n",
      ") {\n",
      "  %matmul_out = MatMul(%x, %matmul_weight)\n",
      "  %add_out = Add(%matmul_out, %add_bias)\n",
      "  return %add_out\n",
      "}\n"
     ]
    }
   ],
   "source": [
    "# 打印出融合的模型\n",
    "import onnx\n",
    "\n",
    "# Load the ONNX model\n",
    "model = onnx.load(\"optimized.onnx\")\n",
    "\n",
    "# Check that the IR is well formed\n",
    "onnx.checker.check_model(model)\n",
    "\n",
    "# Print a human readable representation of the graph\n",
    "print(onnx.helper.printable_graph(model.graph))"
   ]
  }
 ],
 "metadata": {
  "kernelspec": {
   "display_name": "base",
   "language": "python",
   "name": "python3"
  },
  "language_info": {
   "codemirror_mode": {
    "name": "ipython",
    "version": 3
   },
   "file_extension": ".py",
   "mimetype": "text/x-python",
   "name": "python",
   "nbconvert_exporter": "python",
   "pygments_lexer": "ipython3",
   "version": "3.10.9"
  },
  "orig_nbformat": 4
 },
 "nbformat": 4,
 "nbformat_minor": 2
}
