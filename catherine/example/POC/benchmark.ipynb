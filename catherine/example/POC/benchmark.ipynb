{
 "cells": [
  {
   "cell_type": "code",
   "execution_count": 1,
   "metadata": {},
   "outputs": [],
   "source": [
    "import torch\n",
    "import torch.nn as nn\n",
    "import torch.nn.functional as F\n",
    "import torchvision.models as models\n",
    "import numpy as np"
   ]
  },
  {
   "cell_type": "code",
   "execution_count": 14,
   "metadata": {},
   "outputs": [],
   "source": [
    "class Threemm(nn.Module):\n",
    "    def __init__(self):\n",
    "        super(Threemm, self).__init__()\n",
    "\n",
    "    def forward(self, X):\n",
    "        n = 10240 # X.shape[0] // 4\n",
    "        B = X[0:n, :] #X[0:n,:]\n",
    "        C = X[n:2*n,:] #X[n:2*n,:]\n",
    "        E = X[2*n:3*n,:] #X[2*n:3*n,:]\n",
    "        F = X[3*n:4*n,:] #X[3*n:4*n,:]\n",
    "        # A=BC, D=EF, G=AD\n",
    "        A = torch.matmul(B, C)\n",
    "        D = torch.matmul(E, F)\n",
    "        G = torch.matmul(A, D)\n",
    "        return G\n",
    "\n",
    "threemm = Threemm()\n",
    "# threemm = threemm.cuda()"
   ]
  },
  {
   "cell_type": "code",
   "execution_count": 15,
   "metadata": {},
   "outputs": [],
   "source": [
    "# test 3mm\n",
    "N = 10240\n",
    "X = torch.randn((4*N, N))"
   ]
  },
  {
   "cell_type": "code",
   "execution_count": 16,
   "metadata": {},
   "outputs": [
    {
     "data": {
      "text/plain": [
       "torch.Size([10240, 10240])"
      ]
     },
     "execution_count": 16,
     "metadata": {},
     "output_type": "execute_result"
    }
   ],
   "source": [
    "output_threemm  = threemm(X)\n",
    "output_threemm.shape"
   ]
  },
  {
   "cell_type": "code",
   "execution_count": 17,
   "metadata": {},
   "outputs": [],
   "source": [
    "torch.onnx.export(threemm, X, 'threemm.onnx')"
   ]
  },
  {
   "cell_type": "code",
   "execution_count": 18,
   "metadata": {},
   "outputs": [],
   "source": [
    "tensor = np.random.rand(40960, 10240)\n",
    "np.save(\"tensor-4096-1024\", np.float32(tensor))"
   ]
  },
  {
   "cell_type": "code",
   "execution_count": null,
   "metadata": {},
   "outputs": [],
   "source": [
    "class Nmm(nn.Module):\n",
    "    def __init__(self):\n",
    "        super(Nmm, self).__init__()\n",
    "\n",
    "    def forward(self, X):\n",
    "        n = 1024 # X.shape[0] // 4\n",
    "        B1 = X[0:n, :] #X[0:n,:]\n",
    "        B2 = X[n:2*n,:] #X[n:2*n,:]\n",
    "        B3 = X[2*n:3*n,:] #X[2*n:3*n,:]\n",
    "        B4 = X[3*n:4*n,:] #X[3*n:4*n,:]\n",
    "        B5 = X[4*n:5*n,:] \n",
    "        B6 = X[5*n:6*n,:]\n",
    "\n",
    "        # A=BC, D=EF, G=AD\n",
    "        A1 = torch.matmul(B1, B2)\n",
    "        A2 = torch.matmul(B3, B4)\n",
    "        A3 = torch.matmul(B5, B6)\n",
    "\n",
    "        C1 = torch.matmul(A1, A2)\n",
    "        C2 = torch.matmul(A2, A3)\n",
    "\n",
    "        G = torch.matmul(C1, C2)\n",
    "        return G\n",
    "\n",
    "nmm = Nmm()\n",
    "# threemm = threemm.cuda()"
   ]
  },
  {
   "cell_type": "code",
   "execution_count": null,
   "metadata": {},
   "outputs": [],
   "source": [
    "# test 3mm\n",
    "N = 1024\n",
    "X = torch.randn((6*N, N))"
   ]
  },
  {
   "cell_type": "code",
   "execution_count": null,
   "metadata": {},
   "outputs": [],
   "source": [
    "output_nmm  = nmm(X)\n",
    "output_nmm.shape"
   ]
  },
  {
   "cell_type": "code",
   "execution_count": null,
   "metadata": {},
   "outputs": [],
   "source": [
    "torch.onnx.export(nmm, X, 'nmm.onnx')"
   ]
  }
 ],
 "metadata": {
  "kernelspec": {
   "display_name": "Python 3",
   "language": "python",
   "name": "python3"
  },
  "language_info": {
   "codemirror_mode": {
    "name": "ipython",
    "version": 3
   },
   "file_extension": ".py",
   "mimetype": "text/x-python",
   "name": "python",
   "nbconvert_exporter": "python",
   "pygments_lexer": "ipython3",
   "version": "3.8.10"
  }
 },
 "nbformat": 4,
 "nbformat_minor": 4
}
